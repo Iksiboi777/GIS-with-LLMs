{
 "cells": [
  {
   "cell_type": "code",
   "execution_count": 2,
   "metadata": {},
   "outputs": [
    {
     "data": {
      "text/html": [
       "<div>\n",
       "<style scoped>\n",
       "    .dataframe tbody tr th:only-of-type {\n",
       "        vertical-align: middle;\n",
       "    }\n",
       "\n",
       "    .dataframe tbody tr th {\n",
       "        vertical-align: top;\n",
       "    }\n",
       "\n",
       "    .dataframe thead th {\n",
       "        text-align: right;\n",
       "    }\n",
       "</style>\n",
       "<table border=\"1\" class=\"dataframe\">\n",
       "  <thead>\n",
       "    <tr style=\"text-align: right;\">\n",
       "      <th></th>\n",
       "      <th>Depth</th>\n",
       "      <th>POINTID</th>\n",
       "      <th>pH_CaCl₂</th>\n",
       "      <th>pH_H₂O</th>\n",
       "      <th>EC</th>\n",
       "      <th>OC</th>\n",
       "      <th>CaCO₃</th>\n",
       "      <th>P</th>\n",
       "      <th>N</th>\n",
       "      <th>K</th>\n",
       "      <th>...</th>\n",
       "      <th>TH_LAT</th>\n",
       "      <th>TH_LONG</th>\n",
       "      <th>SURVEY_DAT</th>\n",
       "      <th>Elev</th>\n",
       "      <th>LC</th>\n",
       "      <th>LU</th>\n",
       "      <th>LC₀_Desc</th>\n",
       "      <th>LC₁_Desc</th>\n",
       "      <th>LU₁_Desc</th>\n",
       "      <th>geometry</th>\n",
       "    </tr>\n",
       "  </thead>\n",
       "  <tbody>\n",
       "  </tbody>\n",
       "</table>\n",
       "<p>0 rows × 28 columns</p>\n",
       "</div>"
      ],
      "text/plain": [
       "Empty GeoDataFrame\n",
       "Columns: [Depth, POINTID, pH_CaCl₂, pH_H₂O, EC, OC, CaCO₃, P, N, K, OC (20–3, CaCO₃ (2, Ox_Al, Ox_Fe, NUTS_0, NUTS_1, NUTS_2, NUTS_3, TH_LAT, TH_LONG, SURVEY_DAT, Elev, LC, LU, LC₀_Desc, LC₁_Desc, LU₁_Desc, geometry]\n",
       "Index: []\n",
       "\n",
       "[0 rows x 28 columns]"
      ]
     },
     "execution_count": 2,
     "metadata": {},
     "output_type": "execute_result"
    }
   ],
   "source": [
    "import geopandas as gpd\n",
    "import matplotlib.pyplot as plt\n",
    "\n",
    "geo_dataframe = gpd.read_file('/home/ikuseta/diplomski_projekt/autonomousGIS/geo_dataframe/geo_dataframe.shp')\n",
    "quantile_value = geo_dataframe['K'].quantile(0.9)\n",
    "geo_dataframe_filtered = geo_dataframe[geo_dataframe['K'].isin([quantile_value])]\n",
    "geo_dataframe_filtered\n"
   ]
  },
  {
   "cell_type": "code",
   "execution_count": null,
   "metadata": {},
   "outputs": [],
   "source": [
    "europe_shapefile = gpd.read_file('/home/ikuseta/diplomski_projekt/autonomousGIS/Europe/Europe_coastline.shp')\n",
    "quantile_value"
   ]
  },
  {
   "cell_type": "code",
   "execution_count": null,
   "metadata": {},
   "outputs": [],
   "source": [
    "\n",
    "fig, ax = plt.subplots(figsize=(10, 10))\n",
    "europe_shapefile.plot(ax=ax, color='lightgrey')\n",
    "geo_dataframe_filtered.plot(ax=ax, marker='.', color='red', markersize=5)\n",
    "# plt.savefig('/home/ikuseta/diplomski_projekt/autonomousGIS/code_results/geo_7_.png')\n"
   ]
  }
 ],
 "metadata": {
  "kernelspec": {
   "display_name": "dipl_pro_venv",
   "language": "python",
   "name": "python3"
  },
  "language_info": {
   "codemirror_mode": {
    "name": "ipython",
    "version": 3
   },
   "file_extension": ".py",
   "mimetype": "text/x-python",
   "name": "python",
   "nbconvert_exporter": "python",
   "pygments_lexer": "ipython3",
   "version": "3.9.2"
  }
 },
 "nbformat": 4,
 "nbformat_minor": 2
}
